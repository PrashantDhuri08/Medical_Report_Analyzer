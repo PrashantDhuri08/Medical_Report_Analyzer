{
 "cells": [
  {
   "cell_type": "code",
   "execution_count": 2,
   "metadata": {
    "id": "UetrmCeEisfL"
   },
   "outputs": [],
   "source": [
    "import tensorflow as tf"
   ]
  },
  {
   "cell_type": "code",
   "execution_count": 3,
   "metadata": {
    "id": "2tLC9qFNiwhR"
   },
   "outputs": [],
   "source": [
    "import numpy as np\n",
    "import pandas as pd\n",
    "# import tensorflow as tf\n",
    "from tensorflow import keras\n",
    "from sklearn.model_selection import train_test_split\n",
    "from sklearn.preprocessing import LabelEncoder, StandardScaler\n",
    "from sklearn.metrics import confusion_matrix"
   ]
  },
  {
   "cell_type": "code",
   "execution_count": 3,
   "metadata": {
    "id": "OcoEOFd_iz9q"
   },
   "outputs": [],
   "source": [
    "df = pd.read_csv(\"../dataset/Dengue-Dataset.csv\")"
   ]
  },
  {
   "cell_type": "code",
   "execution_count": 4,
   "metadata": {
    "colab": {
     "base_uri": "https://localhost:8080/",
     "height": 262
    },
    "id": "_tejWUC9i6JB",
    "outputId": "9521ce1a-8205-41b2-e740-791b81d4dd0b"
   },
   "outputs": [
    {
     "data": {
      "text/html": [
       "<div>\n",
       "<style scoped>\n",
       "    .dataframe tbody tr th:only-of-type {\n",
       "        vertical-align: middle;\n",
       "    }\n",
       "\n",
       "    .dataframe tbody tr th {\n",
       "        vertical-align: top;\n",
       "    }\n",
       "\n",
       "    .dataframe thead th {\n",
       "        text-align: right;\n",
       "    }\n",
       "</style>\n",
       "<table border=\"1\" class=\"dataframe\">\n",
       "  <thead>\n",
       "    <tr style=\"text-align: right;\">\n",
       "      <th></th>\n",
       "      <th>Gender</th>\n",
       "      <th>Age</th>\n",
       "      <th>Hemoglobin(g/dl)</th>\n",
       "      <th>Neutrophils(%)</th>\n",
       "      <th>Lymphocytes(%)</th>\n",
       "      <th>Monocytes(%)</th>\n",
       "      <th>Eosinophils(%)</th>\n",
       "      <th>RBC</th>\n",
       "      <th>HCT(%)</th>\n",
       "      <th>MCV(fl)</th>\n",
       "      <th>MCH(pg)</th>\n",
       "      <th>MCHC(g/dl)</th>\n",
       "      <th>RDW-CV(%)</th>\n",
       "      <th>Total Platelet Count(/cumm)</th>\n",
       "      <th>MPV(fl)</th>\n",
       "      <th>PDW(%)</th>\n",
       "      <th>PCT(%)</th>\n",
       "      <th>Total WBC count(/cumm)</th>\n",
       "      <th>Result</th>\n",
       "    </tr>\n",
       "  </thead>\n",
       "  <tbody>\n",
       "    <tr>\n",
       "      <th>0</th>\n",
       "      <td>Male</td>\n",
       "      <td>21</td>\n",
       "      <td>14.8</td>\n",
       "      <td>48</td>\n",
       "      <td>47</td>\n",
       "      <td>3</td>\n",
       "      <td>2</td>\n",
       "      <td>5</td>\n",
       "      <td>48.00</td>\n",
       "      <td>96.0</td>\n",
       "      <td>29.60</td>\n",
       "      <td>30.8</td>\n",
       "      <td>11.6</td>\n",
       "      <td>112000</td>\n",
       "      <td>10.70</td>\n",
       "      <td>15.40</td>\n",
       "      <td>0.120</td>\n",
       "      <td>5100</td>\n",
       "      <td>positive</td>\n",
       "    </tr>\n",
       "    <tr>\n",
       "      <th>1</th>\n",
       "      <td>Male</td>\n",
       "      <td>30</td>\n",
       "      <td>15.0</td>\n",
       "      <td>47</td>\n",
       "      <td>49</td>\n",
       "      <td>6</td>\n",
       "      <td>3</td>\n",
       "      <td>5</td>\n",
       "      <td>49.80</td>\n",
       "      <td>96.1</td>\n",
       "      <td>28.40</td>\n",
       "      <td>29.5</td>\n",
       "      <td>11.8</td>\n",
       "      <td>96000</td>\n",
       "      <td>10.60</td>\n",
       "      <td>15.80</td>\n",
       "      <td>0.121</td>\n",
       "      <td>4500</td>\n",
       "      <td>positive</td>\n",
       "    </tr>\n",
       "    <tr>\n",
       "      <th>2</th>\n",
       "      <td>Male</td>\n",
       "      <td>51</td>\n",
       "      <td>16.3</td>\n",
       "      <td>41</td>\n",
       "      <td>48</td>\n",
       "      <td>4</td>\n",
       "      <td>5</td>\n",
       "      <td>5</td>\n",
       "      <td>50.10</td>\n",
       "      <td>93.5</td>\n",
       "      <td>31.30</td>\n",
       "      <td>32.7</td>\n",
       "      <td>13.5</td>\n",
       "      <td>184000</td>\n",
       "      <td>10.40</td>\n",
       "      <td>16.40</td>\n",
       "      <td>0.130</td>\n",
       "      <td>6000</td>\n",
       "      <td>negative</td>\n",
       "    </tr>\n",
       "    <tr>\n",
       "      <th>3</th>\n",
       "      <td>Female</td>\n",
       "      <td>26</td>\n",
       "      <td>12.3</td>\n",
       "      <td>46</td>\n",
       "      <td>49</td>\n",
       "      <td>7</td>\n",
       "      <td>5</td>\n",
       "      <td>5</td>\n",
       "      <td>44.00</td>\n",
       "      <td>90.0</td>\n",
       "      <td>30.50</td>\n",
       "      <td>30.5</td>\n",
       "      <td>14.7</td>\n",
       "      <td>167000</td>\n",
       "      <td>8.10</td>\n",
       "      <td>17.10</td>\n",
       "      <td>0.110</td>\n",
       "      <td>5000</td>\n",
       "      <td>negative</td>\n",
       "    </tr>\n",
       "    <tr>\n",
       "      <th>4</th>\n",
       "      <td>Male</td>\n",
       "      <td>35</td>\n",
       "      <td>16.1</td>\n",
       "      <td>45</td>\n",
       "      <td>46</td>\n",
       "      <td>4</td>\n",
       "      <td>4</td>\n",
       "      <td>5</td>\n",
       "      <td>50.53</td>\n",
       "      <td>91.0</td>\n",
       "      <td>29.12</td>\n",
       "      <td>29.2</td>\n",
       "      <td>15.2</td>\n",
       "      <td>155000</td>\n",
       "      <td>10.52</td>\n",
       "      <td>12.34</td>\n",
       "      <td>0.150</td>\n",
       "      <td>4600</td>\n",
       "      <td>negative</td>\n",
       "    </tr>\n",
       "  </tbody>\n",
       "</table>\n",
       "</div>"
      ],
      "text/plain": [
       "   Gender  Age  Hemoglobin(g/dl)  Neutrophils(%)  Lymphocytes(%)  \\\n",
       "0    Male   21              14.8              48              47   \n",
       "1    Male   30              15.0              47              49   \n",
       "2    Male   51              16.3              41              48   \n",
       "3  Female   26              12.3              46              49   \n",
       "4    Male   35              16.1              45              46   \n",
       "\n",
       "   Monocytes(%)  Eosinophils(%)  RBC  HCT(%)  MCV(fl)  MCH(pg)  MCHC(g/dl)  \\\n",
       "0             3               2    5   48.00     96.0    29.60        30.8   \n",
       "1             6               3    5   49.80     96.1    28.40        29.5   \n",
       "2             4               5    5   50.10     93.5    31.30        32.7   \n",
       "3             7               5    5   44.00     90.0    30.50        30.5   \n",
       "4             4               4    5   50.53     91.0    29.12        29.2   \n",
       "\n",
       "   RDW-CV(%)  Total Platelet Count(/cumm)  MPV(fl)  PDW(%)  PCT(%)  \\\n",
       "0       11.6                       112000    10.70   15.40   0.120   \n",
       "1       11.8                        96000    10.60   15.80   0.121   \n",
       "2       13.5                       184000    10.40   16.40   0.130   \n",
       "3       14.7                       167000     8.10   17.10   0.110   \n",
       "4       15.2                       155000    10.52   12.34   0.150   \n",
       "\n",
       "   Total WBC count(/cumm)    Result  \n",
       "0                    5100  positive  \n",
       "1                    4500  positive  \n",
       "2                    6000  negative  \n",
       "3                    5000  negative  \n",
       "4                    4600  negative  "
      ]
     },
     "execution_count": 4,
     "metadata": {},
     "output_type": "execute_result"
    }
   ],
   "source": [
    "df.head()"
   ]
  },
  {
   "cell_type": "code",
   "execution_count": 5,
   "metadata": {
    "id": "j-YNb82Ui7YK"
   },
   "outputs": [],
   "source": [
    "label_encoder_gender = LabelEncoder()\n",
    "df[\"Gender\"] = label_encoder_gender.fit_transform(df[\"Gender\"])"
   ]
  },
  {
   "cell_type": "code",
   "execution_count": 6,
   "metadata": {
    "id": "YPQgGtm1i9xq"
   },
   "outputs": [],
   "source": [
    "label_encoder_result = LabelEncoder()\n",
    "df[\"Result\"] = label_encoder_result.fit_transform(df[\"Result\"])"
   ]
  },
  {
   "cell_type": "code",
   "execution_count": 7,
   "metadata": {
    "id": "CJt5o8qfjBCK"
   },
   "outputs": [],
   "source": [
    "X = df.drop(columns=[\"Result\"])\n",
    "y = df[\"Result\"]"
   ]
  },
  {
   "cell_type": "code",
   "execution_count": 8,
   "metadata": {
    "id": "PeXPdSosjCt2"
   },
   "outputs": [],
   "source": [
    "scaler = StandardScaler()\n",
    "X_scaled = scaler.fit_transform(X)\n",
    "\n",
    "\n"
   ]
  },
  {
   "cell_type": "code",
   "execution_count": 9,
   "metadata": {},
   "outputs": [
    {
     "data": {
      "text/plain": [
       "array([[ 1.05885311, -1.26368401,  0.17616324, ...,  0.06194619,\n",
       "        -0.0282228 , -0.33688202],\n",
       "       [ 1.05885311, -0.6747239 ,  0.29911849, ...,  0.34664452,\n",
       "        -0.02805588, -0.86460016],\n",
       "       [ 1.05885311,  0.69951634,  1.09832766, ...,  0.77369202,\n",
       "        -0.0265536 ,  0.45469518],\n",
       "       ...,\n",
       "       [ 1.05885311, -1.06736397,  0.85241715, ..., -0.97008526,\n",
       "        -0.02555208, -0.41603974],\n",
       "       [ 1.05885311,  0.56863632, -0.80747882, ..., -0.42204097,\n",
       "        -0.01920912,  0.24976464],\n",
       "       [ 1.05885311,  0.56863632, -0.80747882, ...,  0.53881589,\n",
       "        -0.0248844 ,  0.56375693]])"
      ]
     },
     "execution_count": 9,
     "metadata": {},
     "output_type": "execute_result"
    }
   ],
   "source": [
    "X_scaled"
   ]
  },
  {
   "cell_type": "code",
   "execution_count": 10,
   "metadata": {
    "id": "qWAy4QRcjEpo"
   },
   "outputs": [],
   "source": [
    "\n",
    "X_train, X_test, y_train, y_test = train_test_split(X_scaled, y, test_size=0.2, random_state=42)"
   ]
  },
  {
   "cell_type": "code",
   "execution_count": 19,
   "metadata": {
    "colab": {
     "base_uri": "https://localhost:8080/"
    },
    "id": "gqL6GX1PjH4Q",
    "outputId": "f485cfea-4da2-4eb7-d0f1-3f7a1e1455fe"
   },
   "outputs": [],
   "source": [
    "# Define Neural Network model\n",
    "model = keras.Sequential([\n",
    "    keras.layers.Dense(32, activation='relu', input_shape=(X_train.shape[1],)),\n",
    "    keras.layers.Dense(16, activation='relu'),\n",
    "    keras.layers.Dense(8, activation='relu'),\n",
    "    keras.layers.Dense(1, activation='sigmoid')  # Binary classification\n",
    "])"
   ]
  },
  {
   "cell_type": "code",
   "execution_count": 20,
   "metadata": {
    "id": "isZO6HKmjJuf"
   },
   "outputs": [],
   "source": [
    "# Compile the model\n",
    "model.compile(optimizer='adam', loss='binary_crossentropy', metrics=['accuracy'])"
   ]
  },
  {
   "cell_type": "code",
   "execution_count": 21,
   "metadata": {
    "colab": {
     "base_uri": "https://localhost:8080/"
    },
    "id": "vOIRw3kfjNs6",
    "outputId": "51f059bb-f35f-49c6-dc39-ec6dde73e956"
   },
   "outputs": [
    {
     "name": "stdout",
     "output_type": "stream",
     "text": [
      "Epoch 1/50\n",
      "\u001b[1m77/77\u001b[0m \u001b[32m━━━━━━━━━━━━━━━━━━━━\u001b[0m\u001b[37m\u001b[0m \u001b[1m5s\u001b[0m 17ms/step - accuracy: 0.6558 - loss: 0.6488 - val_accuracy: 0.6984 - val_loss: 0.5976\n",
      "Epoch 2/50\n",
      "\u001b[1m77/77\u001b[0m \u001b[32m━━━━━━━━━━━━━━━━━━━━\u001b[0m\u001b[37m\u001b[0m \u001b[1m2s\u001b[0m 9ms/step - accuracy: 0.6803 - loss: 0.5878 - val_accuracy: 0.7148 - val_loss: 0.5829\n",
      "Epoch 3/50\n",
      "\u001b[1m77/77\u001b[0m \u001b[32m━━━━━━━━━━━━━━━━━━━━\u001b[0m\u001b[37m\u001b[0m \u001b[1m1s\u001b[0m 9ms/step - accuracy: 0.7334 - loss: 0.5741 - val_accuracy: 0.7246 - val_loss: 0.5784\n",
      "Epoch 4/50\n",
      "\u001b[1m77/77\u001b[0m \u001b[32m━━━━━━━━━━━━━━━━━━━━\u001b[0m\u001b[37m\u001b[0m \u001b[1m1s\u001b[0m 9ms/step - accuracy: 0.7537 - loss: 0.5571 - val_accuracy: 0.7377 - val_loss: 0.5755\n",
      "Epoch 5/50\n",
      "\u001b[1m77/77\u001b[0m \u001b[32m━━━━━━━━━━━━━━━━━━━━\u001b[0m\u001b[37m\u001b[0m \u001b[1m1s\u001b[0m 8ms/step - accuracy: 0.7548 - loss: 0.5516 - val_accuracy: 0.7410 - val_loss: 0.5748\n",
      "Epoch 6/50\n",
      "\u001b[1m77/77\u001b[0m \u001b[32m━━━━━━━━━━━━━━━━━━━━\u001b[0m\u001b[37m\u001b[0m \u001b[1m1s\u001b[0m 10ms/step - accuracy: 0.7465 - loss: 0.5334 - val_accuracy: 0.7311 - val_loss: 0.5791\n",
      "Epoch 7/50\n",
      "\u001b[1m77/77\u001b[0m \u001b[32m━━━━━━━━━━━━━━━━━━━━\u001b[0m\u001b[37m\u001b[0m \u001b[1m1s\u001b[0m 9ms/step - accuracy: 0.7486 - loss: 0.5224 - val_accuracy: 0.7311 - val_loss: 0.5776\n",
      "Epoch 8/50\n",
      "\u001b[1m77/77\u001b[0m \u001b[32m━━━━━━━━━━━━━━━━━━━━\u001b[0m\u001b[37m\u001b[0m \u001b[1m1s\u001b[0m 9ms/step - accuracy: 0.7717 - loss: 0.5083 - val_accuracy: 0.7410 - val_loss: 0.5835\n",
      "Epoch 9/50\n",
      "\u001b[1m77/77\u001b[0m \u001b[32m━━━━━━━━━━━━━━━━━━━━\u001b[0m\u001b[37m\u001b[0m \u001b[1m1s\u001b[0m 9ms/step - accuracy: 0.7759 - loss: 0.4952 - val_accuracy: 0.7377 - val_loss: 0.5884\n",
      "Epoch 10/50\n",
      "\u001b[1m77/77\u001b[0m \u001b[32m━━━━━━━━━━━━━━━━━━━━\u001b[0m\u001b[37m\u001b[0m \u001b[1m1s\u001b[0m 9ms/step - accuracy: 0.7858 - loss: 0.4796 - val_accuracy: 0.7344 - val_loss: 0.5955\n",
      "Epoch 11/50\n",
      "\u001b[1m77/77\u001b[0m \u001b[32m━━━━━━━━━━━━━━━━━━━━\u001b[0m\u001b[37m\u001b[0m \u001b[1m1s\u001b[0m 9ms/step - accuracy: 0.7795 - loss: 0.4871 - val_accuracy: 0.7311 - val_loss: 0.5994\n",
      "Epoch 12/50\n",
      "\u001b[1m77/77\u001b[0m \u001b[32m━━━━━━━━━━━━━━━━━━━━\u001b[0m\u001b[37m\u001b[0m \u001b[1m1s\u001b[0m 9ms/step - accuracy: 0.7819 - loss: 0.4671 - val_accuracy: 0.7180 - val_loss: 0.6134\n",
      "Epoch 13/50\n",
      "\u001b[1m77/77\u001b[0m \u001b[32m━━━━━━━━━━━━━━━━━━━━\u001b[0m\u001b[37m\u001b[0m \u001b[1m1s\u001b[0m 9ms/step - accuracy: 0.7964 - loss: 0.4609 - val_accuracy: 0.7016 - val_loss: 0.6207\n",
      "Epoch 14/50\n",
      "\u001b[1m77/77\u001b[0m \u001b[32m━━━━━━━━━━━━━━━━━━━━\u001b[0m\u001b[37m\u001b[0m \u001b[1m1s\u001b[0m 9ms/step - accuracy: 0.7939 - loss: 0.4580 - val_accuracy: 0.7344 - val_loss: 0.6140\n",
      "Epoch 15/50\n",
      "\u001b[1m77/77\u001b[0m \u001b[32m━━━━━━━━━━━━━━━━━━━━\u001b[0m\u001b[37m\u001b[0m \u001b[1m1s\u001b[0m 9ms/step - accuracy: 0.7624 - loss: 0.4513 - val_accuracy: 0.7311 - val_loss: 0.6204\n",
      "Epoch 16/50\n",
      "\u001b[1m77/77\u001b[0m \u001b[32m━━━━━━━━━━━━━━━━━━━━\u001b[0m\u001b[37m\u001b[0m \u001b[1m1s\u001b[0m 8ms/step - accuracy: 0.7839 - loss: 0.4348 - val_accuracy: 0.6984 - val_loss: 0.6422\n",
      "Epoch 17/50\n",
      "\u001b[1m77/77\u001b[0m \u001b[32m━━━━━━━━━━━━━━━━━━━━\u001b[0m\u001b[37m\u001b[0m \u001b[1m0s\u001b[0m 4ms/step - accuracy: 0.8076 - loss: 0.4318 - val_accuracy: 0.7148 - val_loss: 0.6422\n",
      "Epoch 18/50\n",
      "\u001b[1m77/77\u001b[0m \u001b[32m━━━━━━━━━━━━━━━━━━━━\u001b[0m\u001b[37m\u001b[0m \u001b[1m1s\u001b[0m 8ms/step - accuracy: 0.7980 - loss: 0.4341 - val_accuracy: 0.7180 - val_loss: 0.6513\n",
      "Epoch 19/50\n",
      "\u001b[1m77/77\u001b[0m \u001b[32m━━━━━━━━━━━━━━━━━━━━\u001b[0m\u001b[37m\u001b[0m \u001b[1m1s\u001b[0m 9ms/step - accuracy: 0.8218 - loss: 0.4141 - val_accuracy: 0.6820 - val_loss: 0.6755\n",
      "Epoch 20/50\n",
      "\u001b[1m77/77\u001b[0m \u001b[32m━━━━━━━━━━━━━━━━━━━━\u001b[0m\u001b[37m\u001b[0m \u001b[1m1s\u001b[0m 9ms/step - accuracy: 0.8271 - loss: 0.3931 - val_accuracy: 0.6918 - val_loss: 0.6740\n",
      "Epoch 21/50\n",
      "\u001b[1m77/77\u001b[0m \u001b[32m━━━━━━━━━━━━━━━━━━━━\u001b[0m\u001b[37m\u001b[0m \u001b[1m1s\u001b[0m 9ms/step - accuracy: 0.8563 - loss: 0.3584 - val_accuracy: 0.6459 - val_loss: 0.7042\n",
      "Epoch 22/50\n",
      "\u001b[1m77/77\u001b[0m \u001b[32m━━━━━━━━━━━━━━━━━━━━\u001b[0m\u001b[37m\u001b[0m \u001b[1m1s\u001b[0m 9ms/step - accuracy: 0.8292 - loss: 0.3996 - val_accuracy: 0.6984 - val_loss: 0.7065\n",
      "Epoch 23/50\n",
      "\u001b[1m77/77\u001b[0m \u001b[32m━━━━━━━━━━━━━━━━━━━━\u001b[0m\u001b[37m\u001b[0m \u001b[1m1s\u001b[0m 9ms/step - accuracy: 0.8435 - loss: 0.3696 - val_accuracy: 0.6721 - val_loss: 0.7295\n",
      "Epoch 24/50\n",
      "\u001b[1m77/77\u001b[0m \u001b[32m━━━━━━━━━━━━━━━━━━━━\u001b[0m\u001b[37m\u001b[0m \u001b[1m1s\u001b[0m 9ms/step - accuracy: 0.8649 - loss: 0.3557 - val_accuracy: 0.6787 - val_loss: 0.7378\n",
      "Epoch 25/50\n",
      "\u001b[1m77/77\u001b[0m \u001b[32m━━━━━━━━━━━━━━━━━━━━\u001b[0m\u001b[37m\u001b[0m \u001b[1m1s\u001b[0m 8ms/step - accuracy: 0.8775 - loss: 0.3382 - val_accuracy: 0.6557 - val_loss: 0.7540\n",
      "Epoch 26/50\n",
      "\u001b[1m77/77\u001b[0m \u001b[32m━━━━━━━━━━━━━━━━━━━━\u001b[0m\u001b[37m\u001b[0m \u001b[1m1s\u001b[0m 9ms/step - accuracy: 0.8658 - loss: 0.3403 - val_accuracy: 0.6557 - val_loss: 0.7706\n",
      "Epoch 27/50\n",
      "\u001b[1m77/77\u001b[0m \u001b[32m━━━━━━━━━━━━━━━━━━━━\u001b[0m\u001b[37m\u001b[0m \u001b[1m1s\u001b[0m 9ms/step - accuracy: 0.8902 - loss: 0.3028 - val_accuracy: 0.6754 - val_loss: 0.7805\n",
      "Epoch 28/50\n",
      "\u001b[1m77/77\u001b[0m \u001b[32m━━━━━━━━━━━━━━━━━━━━\u001b[0m\u001b[37m\u001b[0m \u001b[1m1s\u001b[0m 9ms/step - accuracy: 0.8782 - loss: 0.3183 - val_accuracy: 0.6656 - val_loss: 0.7945\n",
      "Epoch 29/50\n",
      "\u001b[1m77/77\u001b[0m \u001b[32m━━━━━━━━━━━━━━━━━━━━\u001b[0m\u001b[37m\u001b[0m \u001b[1m1s\u001b[0m 8ms/step - accuracy: 0.8740 - loss: 0.3138 - val_accuracy: 0.6656 - val_loss: 0.8144\n",
      "Epoch 30/50\n",
      "\u001b[1m77/77\u001b[0m \u001b[32m━━━━━━━━━━━━━━━━━━━━\u001b[0m\u001b[37m\u001b[0m \u001b[1m1s\u001b[0m 9ms/step - accuracy: 0.8565 - loss: 0.3470 - val_accuracy: 0.6459 - val_loss: 0.8373\n",
      "Epoch 31/50\n",
      "\u001b[1m77/77\u001b[0m \u001b[32m━━━━━━━━━━━━━━━━━━━━\u001b[0m\u001b[37m\u001b[0m \u001b[1m1s\u001b[0m 8ms/step - accuracy: 0.8759 - loss: 0.3237 - val_accuracy: 0.6426 - val_loss: 0.8482\n",
      "Epoch 32/50\n",
      "\u001b[1m77/77\u001b[0m \u001b[32m━━━━━━━━━━━━━━━━━━━━\u001b[0m\u001b[37m\u001b[0m \u001b[1m1s\u001b[0m 7ms/step - accuracy: 0.8957 - loss: 0.2748 - val_accuracy: 0.6459 - val_loss: 0.8616\n",
      "Epoch 33/50\n",
      "\u001b[1m77/77\u001b[0m \u001b[32m━━━━━━━━━━━━━━━━━━━━\u001b[0m\u001b[37m\u001b[0m \u001b[1m1s\u001b[0m 8ms/step - accuracy: 0.8987 - loss: 0.2806 - val_accuracy: 0.6262 - val_loss: 0.8820\n",
      "Epoch 34/50\n",
      "\u001b[1m77/77\u001b[0m \u001b[32m━━━━━━━━━━━━━━━━━━━━\u001b[0m\u001b[37m\u001b[0m \u001b[1m1s\u001b[0m 9ms/step - accuracy: 0.8980 - loss: 0.2750 - val_accuracy: 0.6328 - val_loss: 0.9033\n",
      "Epoch 35/50\n",
      "\u001b[1m77/77\u001b[0m \u001b[32m━━━━━━━━━━━━━━━━━━━━\u001b[0m\u001b[37m\u001b[0m \u001b[1m1s\u001b[0m 8ms/step - accuracy: 0.9016 - loss: 0.2681 - val_accuracy: 0.6295 - val_loss: 0.9111\n",
      "Epoch 36/50\n",
      "\u001b[1m77/77\u001b[0m \u001b[32m━━━━━━━━━━━━━━━━━━━━\u001b[0m\u001b[37m\u001b[0m \u001b[1m1s\u001b[0m 8ms/step - accuracy: 0.9254 - loss: 0.2401 - val_accuracy: 0.6426 - val_loss: 0.9249\n",
      "Epoch 37/50\n",
      "\u001b[1m77/77\u001b[0m \u001b[32m━━━━━━━━━━━━━━━━━━━━\u001b[0m\u001b[37m\u001b[0m \u001b[1m1s\u001b[0m 9ms/step - accuracy: 0.9082 - loss: 0.2572 - val_accuracy: 0.6262 - val_loss: 0.9305\n",
      "Epoch 38/50\n",
      "\u001b[1m77/77\u001b[0m \u001b[32m━━━━━━━━━━━━━━━━━━━━\u001b[0m\u001b[37m\u001b[0m \u001b[1m1s\u001b[0m 8ms/step - accuracy: 0.8990 - loss: 0.2521 - val_accuracy: 0.6164 - val_loss: 0.9556\n",
      "Epoch 39/50\n",
      "\u001b[1m77/77\u001b[0m \u001b[32m━━━━━━━━━━━━━━━━━━━━\u001b[0m\u001b[37m\u001b[0m \u001b[1m1s\u001b[0m 9ms/step - accuracy: 0.9278 - loss: 0.2141 - val_accuracy: 0.6197 - val_loss: 0.9623\n",
      "Epoch 40/50\n",
      "\u001b[1m77/77\u001b[0m \u001b[32m━━━━━━━━━━━━━━━━━━━━\u001b[0m\u001b[37m\u001b[0m \u001b[1m1s\u001b[0m 9ms/step - accuracy: 0.9142 - loss: 0.2358 - val_accuracy: 0.6197 - val_loss: 0.9836\n",
      "Epoch 41/50\n",
      "\u001b[1m77/77\u001b[0m \u001b[32m━━━━━━━━━━━━━━━━━━━━\u001b[0m\u001b[37m\u001b[0m \u001b[1m1s\u001b[0m 10ms/step - accuracy: 0.9160 - loss: 0.2251 - val_accuracy: 0.6426 - val_loss: 0.9834\n",
      "Epoch 42/50\n",
      "\u001b[1m77/77\u001b[0m \u001b[32m━━━━━━━━━━━━━━━━━━━━\u001b[0m\u001b[37m\u001b[0m \u001b[1m1s\u001b[0m 8ms/step - accuracy: 0.9248 - loss: 0.2144 - val_accuracy: 0.6098 - val_loss: 1.0301\n",
      "Epoch 43/50\n",
      "\u001b[1m77/77\u001b[0m \u001b[32m━━━━━━━━━━━━━━━━━━━━\u001b[0m\u001b[37m\u001b[0m \u001b[1m1s\u001b[0m 8ms/step - accuracy: 0.9160 - loss: 0.2410 - val_accuracy: 0.6328 - val_loss: 1.0178\n",
      "Epoch 44/50\n",
      "\u001b[1m77/77\u001b[0m \u001b[32m━━━━━━━━━━━━━━━━━━━━\u001b[0m\u001b[37m\u001b[0m \u001b[1m1s\u001b[0m 9ms/step - accuracy: 0.9216 - loss: 0.2170 - val_accuracy: 0.6393 - val_loss: 1.0328\n",
      "Epoch 45/50\n",
      "\u001b[1m77/77\u001b[0m \u001b[32m━━━━━━━━━━━━━━━━━━━━\u001b[0m\u001b[37m\u001b[0m \u001b[1m1s\u001b[0m 9ms/step - accuracy: 0.9345 - loss: 0.2081 - val_accuracy: 0.6328 - val_loss: 1.0649\n",
      "Epoch 46/50\n",
      "\u001b[1m77/77\u001b[0m \u001b[32m━━━━━━━━━━━━━━━━━━━━\u001b[0m\u001b[37m\u001b[0m \u001b[1m1s\u001b[0m 8ms/step - accuracy: 0.9307 - loss: 0.2125 - val_accuracy: 0.6426 - val_loss: 1.0672\n",
      "Epoch 47/50\n",
      "\u001b[1m77/77\u001b[0m \u001b[32m━━━━━━━━━━━━━━━━━━━━\u001b[0m\u001b[37m\u001b[0m \u001b[1m1s\u001b[0m 9ms/step - accuracy: 0.9343 - loss: 0.1964 - val_accuracy: 0.6557 - val_loss: 1.0863\n",
      "Epoch 48/50\n",
      "\u001b[1m77/77\u001b[0m \u001b[32m━━━━━━━━━━━━━━━━━━━━\u001b[0m\u001b[37m\u001b[0m \u001b[1m1s\u001b[0m 9ms/step - accuracy: 0.9428 - loss: 0.2002 - val_accuracy: 0.6295 - val_loss: 1.1098\n",
      "Epoch 49/50\n",
      "\u001b[1m77/77\u001b[0m \u001b[32m━━━━━━━━━━━━━━━━━━━━\u001b[0m\u001b[37m\u001b[0m \u001b[1m1s\u001b[0m 9ms/step - accuracy: 0.9348 - loss: 0.2005 - val_accuracy: 0.6230 - val_loss: 1.1463\n",
      "Epoch 50/50\n",
      "\u001b[1m77/77\u001b[0m \u001b[32m━━━━━━━━━━━━━━━━━━━━\u001b[0m\u001b[37m\u001b[0m \u001b[1m1s\u001b[0m 9ms/step - accuracy: 0.9425 - loss: 0.1840 - val_accuracy: 0.6328 - val_loss: 1.1468\n",
      "Training Time: 58.17 seconds\n"
     ]
    }
   ],
   "source": [
    "import time\n",
    "start_time = time.time()\n",
    "# Train the model\n",
    "history = model.fit(X_train, y_train, epochs=50, batch_size=16, validation_data=(X_test, y_test), verbose=1)\n",
    "\n",
    "end_time = time.time()\n",
    "\n",
    "# Calculate and print the training time\n",
    "training_time = end_time - start_time\n",
    "print(f\"Training Time: {training_time:.2f} seconds\")"
   ]
  },
  {
   "cell_type": "code",
   "execution_count": 22,
   "metadata": {
    "colab": {
     "base_uri": "https://localhost:8080/"
    },
    "id": "Kn5NeXc9jPtN",
    "outputId": "a030efa4-3fff-425f-9b30-42833473b17d"
   },
   "outputs": [
    {
     "name": "stdout",
     "output_type": "stream",
     "text": [
      "\u001b[1m10/10\u001b[0m \u001b[32m━━━━━━━━━━━━━━━━━━━━\u001b[0m\u001b[37m\u001b[0m \u001b[1m0s\u001b[0m 12ms/step - accuracy: 0.6339 - loss: 1.1372\n"
     ]
    }
   ],
   "source": [
    "test_loss, test_accuracy = model.evaluate(X_test, y_test)"
   ]
  },
  {
   "cell_type": "code",
   "execution_count": 23,
   "metadata": {
    "colab": {
     "base_uri": "https://localhost:8080/"
    },
    "id": "tkqviAdXjRwP",
    "outputId": "a4b13cb9-02c1-4b04-f969-a2f5f6eb2e87"
   },
   "outputs": [
    {
     "name": "stdout",
     "output_type": "stream",
     "text": [
      "accuracy0.6327868700027466\n"
     ]
    }
   ],
   "source": [
    "print(f\"accuracy{test_accuracy}\")"
   ]
  },
  {
   "cell_type": "code",
   "execution_count": 24,
   "metadata": {
    "colab": {
     "base_uri": "https://localhost:8080/",
     "height": 273
    },
    "id": "o8OXZybFnDjx",
    "outputId": "a7e07864-9939-41a9-c4a2-def6debe6c36"
   },
   "outputs": [
    {
     "data": {
      "text/html": [
       "<pre style=\"white-space:pre;overflow-x:auto;line-height:normal;font-family:Menlo,'DejaVu Sans Mono',consolas,'Courier New',monospace\"><span style=\"font-weight: bold\">Model: \"sequential_3\"</span>\n",
       "</pre>\n"
      ],
      "text/plain": [
       "\u001b[1mModel: \"sequential_3\"\u001b[0m\n"
      ]
     },
     "metadata": {},
     "output_type": "display_data"
    },
    {
     "data": {
      "text/html": [
       "<pre style=\"white-space:pre;overflow-x:auto;line-height:normal;font-family:Menlo,'DejaVu Sans Mono',consolas,'Courier New',monospace\">┏━━━━━━━━━━━━━━━━━━━━━━━━━━━━━━━━━━━━━┳━━━━━━━━━━━━━━━━━━━━━━━━━━━━┳━━━━━━━━━━━━━━━━━┓\n",
       "┃<span style=\"font-weight: bold\"> Layer (type)                        </span>┃<span style=\"font-weight: bold\"> Output Shape               </span>┃<span style=\"font-weight: bold\">         Param # </span>┃\n",
       "┡━━━━━━━━━━━━━━━━━━━━━━━━━━━━━━━━━━━━━╇━━━━━━━━━━━━━━━━━━━━━━━━━━━━╇━━━━━━━━━━━━━━━━━┩\n",
       "│ dense_12 (<span style=\"color: #0087ff; text-decoration-color: #0087ff\">Dense</span>)                    │ (<span style=\"color: #00d7ff; text-decoration-color: #00d7ff\">None</span>, <span style=\"color: #00af00; text-decoration-color: #00af00\">32</span>)                 │             <span style=\"color: #00af00; text-decoration-color: #00af00\">608</span> │\n",
       "├─────────────────────────────────────┼────────────────────────────┼─────────────────┤\n",
       "│ dense_13 (<span style=\"color: #0087ff; text-decoration-color: #0087ff\">Dense</span>)                    │ (<span style=\"color: #00d7ff; text-decoration-color: #00d7ff\">None</span>, <span style=\"color: #00af00; text-decoration-color: #00af00\">16</span>)                 │             <span style=\"color: #00af00; text-decoration-color: #00af00\">528</span> │\n",
       "├─────────────────────────────────────┼────────────────────────────┼─────────────────┤\n",
       "│ dense_14 (<span style=\"color: #0087ff; text-decoration-color: #0087ff\">Dense</span>)                    │ (<span style=\"color: #00d7ff; text-decoration-color: #00d7ff\">None</span>, <span style=\"color: #00af00; text-decoration-color: #00af00\">8</span>)                  │             <span style=\"color: #00af00; text-decoration-color: #00af00\">136</span> │\n",
       "├─────────────────────────────────────┼────────────────────────────┼─────────────────┤\n",
       "│ dense_15 (<span style=\"color: #0087ff; text-decoration-color: #0087ff\">Dense</span>)                    │ (<span style=\"color: #00d7ff; text-decoration-color: #00d7ff\">None</span>, <span style=\"color: #00af00; text-decoration-color: #00af00\">1</span>)                  │               <span style=\"color: #00af00; text-decoration-color: #00af00\">9</span> │\n",
       "└─────────────────────────────────────┴────────────────────────────┴─────────────────┘\n",
       "</pre>\n"
      ],
      "text/plain": [
       "┏━━━━━━━━━━━━━━━━━━━━━━━━━━━━━━━━━━━━━┳━━━━━━━━━━━━━━━━━━━━━━━━━━━━┳━━━━━━━━━━━━━━━━━┓\n",
       "┃\u001b[1m \u001b[0m\u001b[1mLayer (type)                       \u001b[0m\u001b[1m \u001b[0m┃\u001b[1m \u001b[0m\u001b[1mOutput Shape              \u001b[0m\u001b[1m \u001b[0m┃\u001b[1m \u001b[0m\u001b[1m        Param #\u001b[0m\u001b[1m \u001b[0m┃\n",
       "┡━━━━━━━━━━━━━━━━━━━━━━━━━━━━━━━━━━━━━╇━━━━━━━━━━━━━━━━━━━━━━━━━━━━╇━━━━━━━━━━━━━━━━━┩\n",
       "│ dense_12 (\u001b[38;5;33mDense\u001b[0m)                    │ (\u001b[38;5;45mNone\u001b[0m, \u001b[38;5;34m32\u001b[0m)                 │             \u001b[38;5;34m608\u001b[0m │\n",
       "├─────────────────────────────────────┼────────────────────────────┼─────────────────┤\n",
       "│ dense_13 (\u001b[38;5;33mDense\u001b[0m)                    │ (\u001b[38;5;45mNone\u001b[0m, \u001b[38;5;34m16\u001b[0m)                 │             \u001b[38;5;34m528\u001b[0m │\n",
       "├─────────────────────────────────────┼────────────────────────────┼─────────────────┤\n",
       "│ dense_14 (\u001b[38;5;33mDense\u001b[0m)                    │ (\u001b[38;5;45mNone\u001b[0m, \u001b[38;5;34m8\u001b[0m)                  │             \u001b[38;5;34m136\u001b[0m │\n",
       "├─────────────────────────────────────┼────────────────────────────┼─────────────────┤\n",
       "│ dense_15 (\u001b[38;5;33mDense\u001b[0m)                    │ (\u001b[38;5;45mNone\u001b[0m, \u001b[38;5;34m1\u001b[0m)                  │               \u001b[38;5;34m9\u001b[0m │\n",
       "└─────────────────────────────────────┴────────────────────────────┴─────────────────┘\n"
      ]
     },
     "metadata": {},
     "output_type": "display_data"
    },
    {
     "data": {
      "text/html": [
       "<pre style=\"white-space:pre;overflow-x:auto;line-height:normal;font-family:Menlo,'DejaVu Sans Mono',consolas,'Courier New',monospace\"><span style=\"font-weight: bold\"> Total params: </span><span style=\"color: #00af00; text-decoration-color: #00af00\">3,845</span> (15.02 KB)\n",
       "</pre>\n"
      ],
      "text/plain": [
       "\u001b[1m Total params: \u001b[0m\u001b[38;5;34m3,845\u001b[0m (15.02 KB)\n"
      ]
     },
     "metadata": {},
     "output_type": "display_data"
    },
    {
     "data": {
      "text/html": [
       "<pre style=\"white-space:pre;overflow-x:auto;line-height:normal;font-family:Menlo,'DejaVu Sans Mono',consolas,'Courier New',monospace\"><span style=\"font-weight: bold\"> Trainable params: </span><span style=\"color: #00af00; text-decoration-color: #00af00\">1,281</span> (5.00 KB)\n",
       "</pre>\n"
      ],
      "text/plain": [
       "\u001b[1m Trainable params: \u001b[0m\u001b[38;5;34m1,281\u001b[0m (5.00 KB)\n"
      ]
     },
     "metadata": {},
     "output_type": "display_data"
    },
    {
     "data": {
      "text/html": [
       "<pre style=\"white-space:pre;overflow-x:auto;line-height:normal;font-family:Menlo,'DejaVu Sans Mono',consolas,'Courier New',monospace\"><span style=\"font-weight: bold\"> Non-trainable params: </span><span style=\"color: #00af00; text-decoration-color: #00af00\">0</span> (0.00 B)\n",
       "</pre>\n"
      ],
      "text/plain": [
       "\u001b[1m Non-trainable params: \u001b[0m\u001b[38;5;34m0\u001b[0m (0.00 B)\n"
      ]
     },
     "metadata": {},
     "output_type": "display_data"
    },
    {
     "data": {
      "text/html": [
       "<pre style=\"white-space:pre;overflow-x:auto;line-height:normal;font-family:Menlo,'DejaVu Sans Mono',consolas,'Courier New',monospace\"><span style=\"font-weight: bold\"> Optimizer params: </span><span style=\"color: #00af00; text-decoration-color: #00af00\">2,564</span> (10.02 KB)\n",
       "</pre>\n"
      ],
      "text/plain": [
       "\u001b[1m Optimizer params: \u001b[0m\u001b[38;5;34m2,564\u001b[0m (10.02 KB)\n"
      ]
     },
     "metadata": {},
     "output_type": "display_data"
    }
   ],
   "source": [
    "model.summary()\n"
   ]
  },
  {
   "cell_type": "code",
   "execution_count": 17,
   "metadata": {
    "colab": {
     "base_uri": "https://localhost:8080/",
     "height": 186
    },
    "id": "uOo1ICmPnUjB",
    "outputId": "6d3394ac-e882-486f-b006-0a9afdc0b8e7"
   },
   "outputs": [],
   "source": [
    "# model.sav\n",
    "\n",
    "import pickle\n",
    "\n",
    "with open('DeNN.pkl', 'wb') as file:\n",
    "    pickle.dump(model, file)\n"
   ]
  },
  {
   "cell_type": "code",
   "execution_count": 25,
   "metadata": {
    "colab": {
     "base_uri": "https://localhost:8080/"
    },
    "id": "Jv61ww77pEzU",
    "outputId": "26a2467b-972d-448f-b486-b00b8b9febe4"
   },
   "outputs": [
    {
     "name": "stderr",
     "output_type": "stream",
     "text": [
      "P:\\Programs\\Medical_report_analyzer\\myenv\\Lib\\site-packages\\sklearn\\utils\\validation.py:2739: UserWarning: X does not have valid feature names, but StandardScaler was fitted with feature names\n",
      "  warnings.warn(\n"
     ]
    },
    {
     "name": "stdout",
     "output_type": "stream",
     "text": [
      "\u001b[1m1/1\u001b[0m \u001b[32m━━━━━━━━━━━━━━━━━━━━\u001b[0m\u001b[37m\u001b[0m \u001b[1m0s\u001b[0m 227ms/step\n",
      "[[0.99998075]]\n",
      "Dengue Test Prediction: Positive\n"
     ]
    }
   ],
   "source": [
    "user_data = np.array([\n",
    "    1,      # Gender (Male = 1, Female = 0)\n",
    "    21,     # Age\n",
    "    14.8,   # Hemoglobin (g/dl)\n",
    "    48,     # Neutrophils (%)\n",
    "    47,     # Lymphocytes (%)\n",
    "    3,      # Monocytes (%)\n",
    "    2,      # Eosinophils (%)\n",
    "    5,      # RBC count\n",
    "    48.0,   # HCT (%)\n",
    "    96.0,   # MCV (fl)\n",
    "    29.6,   # MCH (pg)\n",
    "    30.8,   # MCHC (g/dl)\n",
    "    11.6,   # RDW-CV (%)\n",
    "    112000, # Total Platelet Count (/cumm)\n",
    "    10.7,   # MPV (fl)\n",
    "    15.4,   # PDW (%)\n",
    "    0.12,   # PCT (%)\n",
    "    5100    # Total WBC Count (/cumm)\n",
    "]).reshape(1, -1)  #reshaping \n",
    "\n",
    "#scaling for input\n",
    "user_input_scaled = scaler.transform(user_data)\n",
    "\n",
    "\n",
    "prediction = model.predict(user_input_scaled)\n",
    "print(prediction)\n",
    "# Interpret result\n",
    "dengue_result = \"Positive\" if prediction[0][0] > 0.5 else \"Negative\"\n",
    "print(f\"Dengue Test Prediction: {dengue_result}\")\n"
   ]
  },
  {
   "cell_type": "code",
   "execution_count": 26,
   "metadata": {
    "colab": {
     "base_uri": "https://localhost:8080/"
    },
    "id": "bX2FyP2Vp0Q3",
    "outputId": "06bcae1c-d703-4d93-db27-8ed372dead8a"
   },
   "outputs": [
    {
     "name": "stderr",
     "output_type": "stream",
     "text": [
      "P:\\Programs\\Medical_report_analyzer\\myenv\\Lib\\site-packages\\sklearn\\utils\\validation.py:2739: UserWarning: X does not have valid feature names, but StandardScaler was fitted with feature names\n",
      "  warnings.warn(\n"
     ]
    },
    {
     "name": "stdout",
     "output_type": "stream",
     "text": [
      "\u001b[1m1/1\u001b[0m \u001b[32m━━━━━━━━━━━━━━━━━━━━\u001b[0m\u001b[37m\u001b[0m \u001b[1m0s\u001b[0m 111ms/step\n",
      "[[0.07772811]]\n",
      "Dengue Test Prediction: Negative\n"
     ]
    }
   ],
   "source": [
    "user_data = np.array([\n",
    "    0,      # Gender (Female = 0, Male = 1)\n",
    "    26,     # Age\n",
    "    12.3,   # Hemoglobin (g/dl)\n",
    "    46,     # Neutrophils (%)\n",
    "    49,     # Lymphocytes (%)\n",
    "    7,      # Monocytes (%)\n",
    "    5,      # Eosinophils (%)\n",
    "    5,      # RBC count\n",
    "    44.0,   # HCT (%)\n",
    "    90.0,   # MCV (fl)\n",
    "    30.5,   # MCH (pg)\n",
    "    30.5,   # MCHC (g/dl)\n",
    "    14.7,   # RDW-CV (%)\n",
    "    167000, # Total Platelet Count (/cumm)\n",
    "    8.1,    # MPV (fl)\n",
    "    17.1,   # PDW (%)\n",
    "    0.11,   # PCT (%)\n",
    "    5000    # Total WBC Count (/cumm)\n",
    "]).reshape(1, -1)  # Reshape for model input\n",
    "\n",
    "# Preprocess the input\n",
    "user_input_scaled = scaler.transform(user_data)\n",
    "\n",
    "# Make a prediction\n",
    "prediction = model.predict(user_input_scaled)\n",
    "\n",
    "print(prediction)\n",
    "# Interpret result\n",
    "dengue_result = \"Positive\" if prediction[0][0] > 0.5 else \"Negative\"\n",
    "print(f\"Dengue Test Prediction: {dengue_result}\")\n"
   ]
  },
  {
   "cell_type": "code",
   "execution_count": 28,
   "metadata": {},
   "outputs": [],
   "source": [
    "# model.save('../Flaskapp/dengue.keras')"
   ]
  },
  {
   "cell_type": "code",
   "execution_count": 44,
   "metadata": {},
   "outputs": [],
   "source": [
    "# with open('scaler.pkl', 'wb') as file:\n",
    "#     pickle.dump(scaler, file)\n"
   ]
  }
 ],
 "metadata": {
  "colab": {
   "provenance": []
  },
  "kernelspec": {
   "display_name": "Python 3 (ipykernel)",
   "language": "python",
   "name": "python3"
  },
  "language_info": {
   "codemirror_mode": {
    "name": "ipython",
    "version": 3
   },
   "file_extension": ".py",
   "mimetype": "text/x-python",
   "name": "python",
   "nbconvert_exporter": "python",
   "pygments_lexer": "ipython3",
   "version": "3.12.5"
  }
 },
 "nbformat": 4,
 "nbformat_minor": 4
}
